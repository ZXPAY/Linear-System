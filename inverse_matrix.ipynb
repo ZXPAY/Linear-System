{
 "cells": [
  {
   "cell_type": "markdown",
   "metadata": {},
   "source": [
    "# 矩陣inverse"
   ]
  },
  {
   "cell_type": "markdown",
   "metadata": {},
   "source": [
    "### 求A的反矩陣\n",
    "### $A^{-1}$ = $\\frac{adj(A)}{det(A)}$\n",
    "### $adj(A) = C^T$ where C is 餘因子矩陣\n",
    "### $C = (-1)^{i+j}M_{ij}$"
   ]
  },
  {
   "cell_type": "code",
   "execution_count": 20,
   "metadata": {},
   "outputs": [
    {
     "data": {
      "text/plain": [
       "4×4 Array{Int64,2}:\n",
       " 1  3  4   5\n",
       " 4  5  7  -4\n",
       " 9  2  1   5\n",
       " 9  9  2   4"
      ]
     },
     "execution_count": 20,
     "metadata": {},
     "output_type": "execute_result"
    }
   ],
   "source": [
    "## example\n",
    "A = [1 3 4 5; 4 5 7 -4; 9 2 1 5;9 9 2 4]\n",
    "# A = [1 3 4; 4 5 7; 9 2 1]\n",
    "# A = [4 0;2 3]"
   ]
  },
  {
   "cell_type": "code",
   "execution_count": 34,
   "metadata": {},
   "outputs": [
    {
     "data": {
      "text/plain": [
       "calculateCofactor (generic function with 1 method)"
      ]
     },
     "execution_count": 34,
     "metadata": {},
     "output_type": "execute_result"
    }
   ],
   "source": [
    "function minusOnePow(degree::Int64)\n",
    "    if degree%2 == 0\n",
    "        return 1\n",
    "    else\n",
    "        return -1\n",
    "    end\n",
    "end\n",
    "\n",
    "function myTranspose(M)\n",
    "    new_M = similar(M)\n",
    "    row = size(M)[1]\n",
    "    col = size(M)[2]\n",
    "    for i in range(1, row, step=1)\n",
    "        for j in range(1, col, step=1)\n",
    "            new_M[j, i] = M[i, j]\n",
    "        end\n",
    "    end\n",
    "    return new_M\n",
    "end\n",
    "\n",
    "function myDet(M)\n",
    "    row = size(M)[1]\n",
    "    col = size(M)[2]\n",
    "    if row != col\n",
    "        return NaN\n",
    "    end\n",
    "    n = row\n",
    "    if n == 1\n",
    "       return M[1]\n",
    "    end\n",
    "    index_p = Array(1:1:n)\n",
    "    index_m = Array(n:-1:1)\n",
    "    sum_p = 0\n",
    "    sum_m = 0\n",
    "    # n step\n",
    "    degree = n\n",
    "    n_step = 1\n",
    "    for i in range(1, n, step=1)\n",
    "        n_step *= i\n",
    "    end\n",
    "    \n",
    "    for step in range(1, Int64(n_step/2), step=1)\n",
    "        j = 1\n",
    "        temp = 1\n",
    "        for i in range(1, n, step=1)\n",
    "            println(i, \",\", index_p[j])\n",
    "            temp *= M[i, index_p[j]]\n",
    "            if index_p[j]+1 > n\n",
    "                index_p[j] = 1\n",
    "            else\n",
    "                index_p[j] = index_p[j] + 1\n",
    "            end\n",
    "            j += 1\n",
    "        end\n",
    "        sum_p += temp\n",
    "    end\n",
    "    println()\n",
    "    for step in range(1, Int64(n_step/2), step=1)\n",
    "        j = 1\n",
    "        temp = 1\n",
    "        for i in range(1, n, step=1)\n",
    "            println(i, \",\", index_m[j])\n",
    "            temp *= M[i, index_m[j]]\n",
    "            if index_m[j]-1 < 1\n",
    "                index_m[j] = n\n",
    "            else\n",
    "                index_m[j] = index_m[j] - 1\n",
    "            end\n",
    "            j += 1\n",
    "        end\n",
    "        sum_m += temp\n",
    "    end\n",
    "    return sum_p - sum_m\n",
    "end\n",
    "\n",
    "function calculateCofactor(M)\n",
    "    C = similar(M)\n",
    "    row = size(M)[1]\n",
    "    col = size(M)[2]\n",
    "    if row != col\n",
    "        return NaN\n",
    "    end\n",
    "    n = row\n",
    "    temp_array = zeros(n-1, n-1)\n",
    "    for i in range(1, n, step=1)\n",
    "        for j in range(1, n, step=1)\n",
    "            temp_i = 1\n",
    "            temp_j = 1\n",
    "            for c_i in range(1, n, step=1)\n",
    "               for c_j in range(1, n, step=1)\n",
    "                    if c_i != i && c_j != j\n",
    "                        temp_array[temp_i, temp_j] = M[c_i, c_j]       \n",
    "                        temp_j += 1\n",
    "                        if temp_j > n-1\n",
    "                            temp_j = 1\n",
    "                            temp_i += 1\n",
    "                        end\n",
    "                        \n",
    "                    end\n",
    "                    \n",
    "                end\n",
    "            end\n",
    "#             println(temp_array)\n",
    "            C[i, j] = minusOnePow(i+j) * myDet(temp_array)\n",
    "        end\n",
    "    end\n",
    "    return C\n",
    "end\n",
    "\n"
   ]
  },
  {
   "cell_type": "code",
   "execution_count": 35,
   "metadata": {},
   "outputs": [
    {
     "name": "stdout",
     "output_type": "stream",
     "text": [
      "1,1\n",
      "2,2\n",
      "3,3\n",
      "4,4\n",
      "1,2\n",
      "2,3\n",
      "3,4\n",
      "4,1\n",
      "1,3\n",
      "2,4\n",
      "3,1\n",
      "4,2\n",
      "1,4\n",
      "2,1\n",
      "3,2\n",
      "4,3\n",
      "1,1\n",
      "2,2\n",
      "3,3\n",
      "4,4\n",
      "1,2\n",
      "2,3\n",
      "3,4\n",
      "4,1\n",
      "1,3\n",
      "2,4\n",
      "3,1\n",
      "4,2\n",
      "1,4\n",
      "2,1\n",
      "3,2\n",
      "4,3\n",
      "1,1\n",
      "2,2\n",
      "3,3\n",
      "4,4\n",
      "1,2\n",
      "2,3\n",
      "3,4\n",
      "4,1\n",
      "1,3\n",
      "2,4\n",
      "3,1\n",
      "4,2\n",
      "1,4\n",
      "2,1\n",
      "3,2\n",
      "4,3\n",
      "\n",
      "1,4\n",
      "2,3\n",
      "3,2\n",
      "4,1\n",
      "1,3\n",
      "2,2\n",
      "3,1\n",
      "4,4\n",
      "1,2\n",
      "2,1\n",
      "3,4\n",
      "4,3\n",
      "1,1\n",
      "2,4\n",
      "3,3\n",
      "4,2\n",
      "1,4\n",
      "2,3\n",
      "3,2\n",
      "4,1\n",
      "1,3\n",
      "2,2\n",
      "3,1\n",
      "4,4\n",
      "1,2\n",
      "2,1\n",
      "3,4\n",
      "4,3\n",
      "1,1\n",
      "2,4\n",
      "3,3\n",
      "4,2\n",
      "1,4\n",
      "2,3\n",
      "3,2\n",
      "4,1\n",
      "1,3\n",
      "2,2\n",
      "3,1\n",
      "4,4\n",
      "1,2\n",
      "2,1\n",
      "3,4\n",
      "4,3\n",
      "1,1\n",
      "2,4\n",
      "3,3\n",
      "4,2\n",
      "det:-5055\n",
      "inverse:[-0.0492582 0.0207715 0.0753709 -0.0118694; 0.000593472 -0.0148368 -0.0884273 0.0949555; 0.0702275 0.0603363 0.0286845 -0.0633037; 0.0743818 -0.0435213 0.0150346 -0.00395648]\n"
     ]
    }
   ],
   "source": [
    "# C = calculateCofactor(A)\n",
    "# adjoint_A = myTranspose(C)\n",
    "det_A = myDet(A)\n",
    "inv_A = adjoint_A / det_A\n",
    "# println(\"adjoint:\", adjoint_A)\n",
    "println(\"det:\", det_A)\n",
    "println(\"inverse:\", inv_A)"
   ]
  },
  {
   "cell_type": "code",
   "execution_count": null,
   "metadata": {},
   "outputs": [],
   "source": []
  },
  {
   "cell_type": "code",
   "execution_count": 12,
   "metadata": {},
   "outputs": [
    {
     "name": "stdout",
     "output_type": "stream",
     "text": [
      "adjoint:[249.0 -105.0 -381.0 60.0; -3.0 75.0 447.0 -480.0; -355.0 -305.0 -145.0 320.0; -376.0 220.0 -76.0 20.0]\n",
      "det:-3060.0\n",
      "inverse:[-0.0813725 0.0343137 0.12451 -0.0196078; 0.000980392 -0.0245098 -0.146078 0.156863; 0.116013 0.0996732 0.0473856 -0.104575; 0.122876 -0.0718954 0.0248366 -0.00653595]\n"
     ]
    }
   ],
   "source": [
    "using LinearAlgebra\n",
    "println(\"adjoint:\", inv(A)*det(A))\n",
    "println(\"det:\", det(A))\n",
    "println(\"inverse:\", inv(A))"
   ]
  },
  {
   "cell_type": "code",
   "execution_count": 13,
   "metadata": {},
   "outputs": [
    {
     "data": {
      "text/plain": [
       "4×4 Array{Float64,2}:\n",
       " -0.000326797  -0.00130719  -0.00294118   -0.00294118 \n",
       " -0.000980392  -0.00163399  -0.000653595  -0.00294118 \n",
       " -0.00130719   -0.00228758  -0.000326797  -0.000653595\n",
       " -0.00163399    0.00130719  -0.00163399   -0.00130719 "
      ]
     },
     "execution_count": 13,
     "metadata": {},
     "output_type": "execute_result"
    }
   ],
   "source": [
    "Adjoint(A)/det(A)"
   ]
  },
  {
   "cell_type": "code",
   "execution_count": null,
   "metadata": {},
   "outputs": [],
   "source": []
  },
  {
   "cell_type": "code",
   "execution_count": null,
   "metadata": {},
   "outputs": [],
   "source": []
  },
  {
   "cell_type": "code",
   "execution_count": null,
   "metadata": {},
   "outputs": [],
   "source": []
  },
  {
   "cell_type": "code",
   "execution_count": null,
   "metadata": {},
   "outputs": [],
   "source": []
  },
  {
   "cell_type": "code",
   "execution_count": null,
   "metadata": {},
   "outputs": [],
   "source": []
  }
 ],
 "metadata": {
  "kernelspec": {
   "display_name": "Julia 1.0.3",
   "language": "julia",
   "name": "julia-1.0"
  },
  "language_info": {
   "file_extension": ".jl",
   "mimetype": "application/julia",
   "name": "julia",
   "version": "1.0.3"
  }
 },
 "nbformat": 4,
 "nbformat_minor": 2
}
