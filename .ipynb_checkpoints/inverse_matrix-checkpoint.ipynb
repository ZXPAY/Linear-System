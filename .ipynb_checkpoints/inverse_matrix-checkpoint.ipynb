{
 "cells": [
  {
   "cell_type": "markdown",
   "metadata": {},
   "source": [
    "# 矩陣inverse"
   ]
  },
  {
   "cell_type": "markdown",
   "metadata": {},
   "source": [
    "### 求A的反矩陣\n",
    "### $A^{-1}$ = $\\frac{adj(A)}{det(A)}$\n",
    "### $adj(A) = C^T$ where C is 餘因子矩陣\n",
    "### $C = (-1)^{i+j}M_{ij}$"
   ]
  },
  {
   "cell_type": "code",
   "execution_count": 1,
   "metadata": {},
   "outputs": [
    {
     "data": {
      "text/plain": [
       "2×2 Array{Int64,2}:\n",
       " 4  0\n",
       " 2  3"
      ]
     },
     "execution_count": 1,
     "metadata": {},
     "output_type": "execute_result"
    }
   ],
   "source": [
    "## example\n",
    "# A = [1 3 4; 4 5 7; 9 2 1]\n",
    "A = [4 0;2 3]"
   ]
  },
  {
   "cell_type": "code",
   "execution_count": 20,
   "metadata": {},
   "outputs": [
    {
     "data": {
      "text/plain": [
       "calculateCofactor (generic function with 1 method)"
      ]
     },
     "execution_count": 20,
     "metadata": {},
     "output_type": "execute_result"
    }
   ],
   "source": [
    "function minusOnePow(degree::Int64)\n",
    "    if degree%2 == 0\n",
    "        return 1\n",
    "    else\n",
    "        return -1\n",
    "    end\n",
    "end\n",
    "\n",
    "function myTranspose(M)\n",
    "    new_M = similar(M)\n",
    "    row = size(M)[1]\n",
    "    col = size(M)[2]\n",
    "    for i in range(1, row, step=1)\n",
    "        for j in range(1, col, step=1)\n",
    "            new_M[j, i] = M[i, j]\n",
    "        end\n",
    "    end\n",
    "    return new_M\n",
    "end\n",
    "\n",
    "function myDet(M)\n",
    "    row = size(M)[1]\n",
    "    col = size(M)[2]\n",
    "    if row != col\n",
    "        return NaN\n",
    "    end\n",
    "    n = row\n",
    "    index_p = Array(1:1:n)\n",
    "    index_m = Array(n:-1:1)\n",
    "    sum_p = 0\n",
    "    sum_m = 0\n",
    "    # n step\n",
    "    degree = n\n",
    "    n_step = 1\n",
    "    for i in range(1, n, step=1)\n",
    "        n_step *= i\n",
    "    end\n",
    "    \n",
    "    for step in range(1, Int64(n_step/2), step=1)\n",
    "        j = 1\n",
    "        temp = 1\n",
    "        for i in range(1, n, step=1)\n",
    "#             println(i, \",\", index_p[j])\n",
    "            temp *= M[i, index_p[j]]\n",
    "            if index_p[j]+1 > n\n",
    "                index_p[j] = 1\n",
    "            else\n",
    "                index_p[j] = index_p[j] + 1\n",
    "            end\n",
    "            j += 1\n",
    "        end\n",
    "        sum_p += temp\n",
    "    end\n",
    "#     println()\n",
    "    for step in range(1, Int64(n_step/2), step=1)\n",
    "        j = 1\n",
    "        temp = 1\n",
    "        for i in range(1, n, step=1)\n",
    "#             println(i, \",\", index_m[j])\n",
    "            temp *= M[i, index_m[j]]\n",
    "            if index_m[j]-1 < 1\n",
    "                index_m[j] = 3\n",
    "            else\n",
    "                index_m[j] = index_m[j] - 1\n",
    "            end\n",
    "            j += 1\n",
    "        end\n",
    "        sum_m += temp\n",
    "    end\n",
    "    return sum_p - sum_m\n",
    "end\n",
    "\n",
    "function calculateCofactor(M)\n",
    "    C = similar(M)\n",
    "    row = size(M)[1]\n",
    "    col = size(M)[2]\n",
    "    if row != col\n",
    "        return NaN\n",
    "    end\n",
    "    n = row\n",
    "    temp_array = zero(n-1, n-1)\n",
    "    for i in range(1, n, step=1)\n",
    "        for j in range(1, n, step=1)\n",
    "            temp_i = 1\n",
    "            temp_j = 1\n",
    "            for c_i in range(1, n, step=1)\n",
    "               for c_j in range(1, n, step=1)\n",
    "                    if c_i != i && c_j != j\n",
    "                        temp_array[temp_i, temp_j] = M[c_i, c_j]\n",
    "                        temp_i += 1\n",
    "                        temp_j += 1\n",
    "                    end\n",
    "                end\n",
    "            end\n",
    "            C[i, j] = minusOnePow(i+j) * myDet(temp_array)\n",
    "        end\n",
    "    end\n",
    "    return C\n",
    "end\n",
    "\n"
   ]
  },
  {
   "cell_type": "code",
   "execution_count": 21,
   "metadata": {},
   "outputs": [
    {
     "ename": "MethodError",
     "evalue": "MethodError: no method matching zero(::Int64, ::Int64)\nClosest candidates are:\n  zero(::Number) at number.jl:262",
     "output_type": "error",
     "traceback": [
      "MethodError: no method matching zero(::Int64, ::Int64)\nClosest candidates are:\n  zero(::Number) at number.jl:262",
      "",
      "Stacktrace:",
      " [1] calculateCofactor(::Array{Int64,2}) at .\\In[20]:81",
      " [2] top-level scope at In[21]:1"
     ]
    }
   ],
   "source": [
    "C = calculateCofactor(A)\n",
    "adjoint_A = myTranspose(C)\n",
    "det_A = myDet(A)\n",
    "inv_A = adjoint_A / det_A\n",
    "println(\"adjoint:\", adjoint_A)\n",
    "println(\"det:\", det_A)\n",
    "println(\"inverse:\", inv_A)"
   ]
  },
  {
   "cell_type": "code",
   "execution_count": null,
   "metadata": {},
   "outputs": [],
   "source": []
  },
  {
   "cell_type": "code",
   "execution_count": 4,
   "metadata": {},
   "outputs": [
    {
     "name": "stdout",
     "output_type": "stream",
     "text": [
      "adjoint:[4 2; 0 3]\n",
      "det:12.0\n",
      "inverse:[0.25 0.0; -0.166667 0.333333]\n"
     ]
    }
   ],
   "source": [
    "using LinearAlgebra\n",
    "println(\"adjoint:\", Adjoint(A))\n",
    "println(\"det:\", det(A))\n",
    "println(\"inverse:\", inv(A))"
   ]
  },
  {
   "cell_type": "code",
   "execution_count": 5,
   "metadata": {},
   "outputs": [
    {
     "data": {
      "text/plain": [
       "2×2 Array{Float64,2}:\n",
       " 0.333333  0.166667\n",
       " 0.0       0.25    "
      ]
     },
     "execution_count": 5,
     "metadata": {},
     "output_type": "execute_result"
    }
   ],
   "source": [
    "Adjoint(A)/det(A)"
   ]
  },
  {
   "cell_type": "code",
   "execution_count": null,
   "metadata": {},
   "outputs": [],
   "source": []
  },
  {
   "cell_type": "code",
   "execution_count": null,
   "metadata": {},
   "outputs": [],
   "source": []
  },
  {
   "cell_type": "code",
   "execution_count": null,
   "metadata": {},
   "outputs": [],
   "source": []
  }
 ],
 "metadata": {
  "kernelspec": {
   "display_name": "Julia 1.0.3",
   "language": "julia",
   "name": "julia-1.0"
  },
  "language_info": {
   "file_extension": ".jl",
   "mimetype": "application/julia",
   "name": "julia",
   "version": "1.0.3"
  }
 },
 "nbformat": 4,
 "nbformat_minor": 2
}
